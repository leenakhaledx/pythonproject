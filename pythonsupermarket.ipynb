{
 "cells": [
  {
   "cell_type": "code",
   "execution_count": 4,
   "id": "e488f685-a89e-4a30-a6cb-1fd7efb57848",
   "metadata": {},
   "outputs": [],
   "source": [
    "import numpy as np\n",
    "import random\n",
    "from prettytable import PrettyTable "
   ]
  },
  {
   "cell_type": "code",
   "execution_count": 24,
   "id": "85735ae7-2eee-4e08-8eac-ebcf05e82248",
   "metadata": {},
   "outputs": [
    {
     "name": "stdin",
     "output_type": "stream",
     "text": [
      "Name: \n",
      " Dimes\n",
      "Password: \n",
      " 1111\n"
     ]
    },
    {
     "name": "stdout",
     "output_type": "stream",
     "text": [
      "Correct credentials\n",
      "Verification code is: 64881 \n",
      "\n"
     ]
    },
    {
     "name": "stdin",
     "output_type": "stream",
     "text": [
      "Enter Verification Code \n",
      " 64881\n"
     ]
    },
    {
     "name": "stdout",
     "output_type": "stream",
     "text": [
      "Verification successful.\n",
      "\n",
      "Available Products:\n",
      " +-------+-------+----------+\n",
      "|  Name | Price | Quantity |\n",
      "+-------+-------+----------+\n",
      "| Water |   80  |   1200   |\n",
      "|  Soda |  130  |   1200   |\n",
      "| Chips |   75  |   1200   |\n",
      "| Bread |   45  |   1200   |\n",
      "|  Eggs |   65  |   1200   |\n",
      "+-------+-------+----------+\n"
     ]
    },
    {
     "name": "stdin",
     "output_type": "stream",
     "text": [
      "Enter the Product Name:  Water\n",
      "Enter Quantity Required for Water:  10\n"
     ]
    },
    {
     "name": "stdout",
     "output_type": "stream",
     "text": [
      "10 units of Water deducted. Remaining stock: 1190\n"
     ]
    },
    {
     "name": "stdin",
     "output_type": "stream",
     "text": [
      "Do you want to add another item? (yes/no):  yes\n"
     ]
    },
    {
     "name": "stdout",
     "output_type": "stream",
     "text": [
      "\n",
      "Available Products:\n",
      " +-------+-------+----------+\n",
      "|  Name | Price | Quantity |\n",
      "+-------+-------+----------+\n",
      "| Water |   80  |   1190   |\n",
      "|  Soda |  130  |   1200   |\n",
      "| Chips |   75  |   1200   |\n",
      "| Bread |   45  |   1200   |\n",
      "|  Eggs |   65  |   1200   |\n",
      "+-------+-------+----------+\n"
     ]
    },
    {
     "name": "stdin",
     "output_type": "stream",
     "text": [
      "Enter the Product Name:  Soda\n",
      "Enter Quantity Required for Soda:  10\n"
     ]
    },
    {
     "name": "stdout",
     "output_type": "stream",
     "text": [
      "10 units of Soda deducted. Remaining stock: 1190\n"
     ]
    },
    {
     "name": "stdin",
     "output_type": "stream",
     "text": [
      "Do you want to add another item? (yes/no):  no\n"
     ]
    },
    {
     "name": "stdout",
     "output_type": "stream",
     "text": [
      "The total price for the main store after 0% discount is: 2100.0\n"
     ]
    },
    {
     "name": "stdin",
     "output_type": "stream",
     "text": [
      "Do you want to visit our new stationary store? (yes/no):  yes\n"
     ]
    },
    {
     "name": "stdout",
     "output_type": "stream",
     "text": [
      "\n",
      "Available Stationary Products:\n",
      " +----------+-------+----------+\n",
      "|   Name   | Price | Quantity |\n",
      "+----------+-------+----------+\n",
      "| Notebook |   50  |   500    |\n",
      "|   Pen    |   10  |   1000   |\n",
      "|  Pencil  |   5   |   1500   |\n",
      "|  Eraser  |   3   |   800    |\n",
      "|  Ruler   |   20  |   300    |\n",
      "+----------+-------+----------+\n"
     ]
    },
    {
     "name": "stdin",
     "output_type": "stream",
     "text": [
      "Enter Stationary Product Name:  Notebook\n",
      "Enter Quantity Required for Notebook:  10\n"
     ]
    },
    {
     "name": "stdout",
     "output_type": "stream",
     "text": [
      "10 units of Notebook deducted. Remaining stock: 490\n"
     ]
    },
    {
     "name": "stdin",
     "output_type": "stream",
     "text": [
      "Do you want to add another stationary item? (yes/no):  yes\n"
     ]
    },
    {
     "name": "stdout",
     "output_type": "stream",
     "text": [
      "\n",
      "Available Stationary Products:\n",
      " +----------+-------+----------+\n",
      "|   Name   | Price | Quantity |\n",
      "+----------+-------+----------+\n",
      "| Notebook |   50  |   490    |\n",
      "|   Pen    |   10  |   1000   |\n",
      "|  Pencil  |   5   |   1500   |\n",
      "|  Eraser  |   3   |   800    |\n",
      "|  Ruler   |   20  |   300    |\n",
      "+----------+-------+----------+\n"
     ]
    },
    {
     "name": "stdin",
     "output_type": "stream",
     "text": [
      "Enter Stationary Product Name:  Pen\n",
      "Enter Quantity Required for Pen:  50\n"
     ]
    },
    {
     "name": "stdout",
     "output_type": "stream",
     "text": [
      "50 units of Pen deducted. Remaining stock: 950\n"
     ]
    },
    {
     "name": "stdin",
     "output_type": "stream",
     "text": [
      "Do you want to add another stationary item? (yes/no):  no\n"
     ]
    },
    {
     "name": "stdout",
     "output_type": "stream",
     "text": [
      "The total price for the stationary store after 2% loyalty discount is: 980.0\n"
     ]
    },
    {
     "name": "stdin",
     "output_type": "stream",
     "text": [
      "Do you want delivery or pickup? (Enter 'delivery' or 'pick-up'):  delivery\n",
      "Choose a payment currency (USD, EUR, EGP):  USD\n"
     ]
    },
    {
     "name": "stdout",
     "output_type": "stream",
     "text": [
      "Total Discounted Price (including stationary store): USD 3280.0\n",
      "Your order is on the way!\n"
     ]
    }
   ],
   "source": [
    "# Initialize login credentials\n",
    "N = \"Dimes\"\n",
    "P = 1111\n",
    "\n",
    "# Login Process\n",
    "while True:\n",
    "    Namez = input(\"Name: \\n\")\n",
    "    passw = int(input(\"Password: \\n\"))\n",
    "\n",
    "    if Namez == N and passw == P:\n",
    "        print(\"Correct credentials\")\n",
    "        break\n",
    "    else:\n",
    "        print(\"Incorrect credentials\")\n",
    "\n",
    "# Verification Process\n",
    "x = random.randint(10000, 99999)\n",
    "print(f\"Verification code is: {x} \\n\")\n",
    "\n",
    "while True:\n",
    "    verification = input(\"Enter Verification Code \\n\")\n",
    "    if verification == str(x):  \n",
    "        print(\"Verification successful.\")\n",
    "        break\n",
    "    else:\n",
    "        print(\"Incorrect verification code. Please try again.\")\n",
    "\n",
    "# Initialize main store table\n",
    "table1 = PrettyTable()\n",
    "table1.field_names = ['Name', 'Price', 'Quantity']\n",
    "table1.add_row(['Water', 80, 1200])\n",
    "table1.add_row(['Soda', 130, 1200])\n",
    "table1.add_row(['Chips', 75, 1200])\n",
    "table1.add_row(['Bread', 45, 1200])\n",
    "table1.add_row(['Eggs', 65, 1200])\n",
    "\n",
    "# Initialize stationary store table\n",
    "table2 = PrettyTable()\n",
    "table2.field_names = ['Name', 'Price', 'Quantity']\n",
    "table2.add_row(['Notebook', 50, 500])\n",
    "table2.add_row(['Pen', 10, 1000])\n",
    "table2.add_row(['Pencil', 5, 1500])\n",
    "table2.add_row(['Eraser', 3, 800])\n",
    "table2.add_row(['Ruler', 20, 300])\n",
    "\n",
    "# Initialize global buying lists\n",
    "main_store_list = []\n",
    "stationary_list = []\n",
    "main_store_quantity = []\n",
    "stationary_quantity = []\n",
    "\n",
    "# Currency conversion function\n",
    "def conversion(Curr, money):\n",
    "    if Curr == \"EUR\":\n",
    "        return money * 0.95\n",
    "    elif Curr == \"USD\":\n",
    "        return money\n",
    "    elif Curr == \"EGP\":\n",
    "        return money * 50\n",
    "    else:\n",
    "        return False\n",
    "\n",
    "# Deduct stock for the main store\n",
    "def deduct_stock(product_name, requested_quantity):\n",
    "    for row in table1._rows:\n",
    "        if row[0] == product_name:\n",
    "            current_quantity = row[2]\n",
    "            if current_quantity == 0:\n",
    "                print(f\"Sorry, {product_name} is out of stock.\")\n",
    "                return False\n",
    "            elif requested_quantity > current_quantity:\n",
    "                print(f\"Sorry, insufficient stock for {product_name}. Only {current_quantity} available.\")\n",
    "                return False\n",
    "            else:\n",
    "                # Deduct stock and update lists\n",
    "                row[2] -= requested_quantity\n",
    "                main_store_quantity.append(requested_quantity)\n",
    "                main_store_list.append(row[1] * requested_quantity)\n",
    "                print(f\"{requested_quantity} units of {product_name} deducted. Remaining stock: {row[2]}\")\n",
    "                return True\n",
    "    print(f\"Product {product_name} not found.\")\n",
    "    return False\n",
    "\n",
    "# Deduct stock for the stationary store\n",
    "def deduct_stationary_stock(product_name, requested_quantity):\n",
    "    for row in table2._rows:\n",
    "        if row[0] == product_name:\n",
    "            current_quantity = row[2]\n",
    "            if current_quantity == 0:\n",
    "                print(f\"Sorry, {product_name} is out of stock.\")\n",
    "                return False\n",
    "            elif requested_quantity > current_quantity:\n",
    "                print(f\"Sorry, insufficient stock for {product_name}. Only {current_quantity} available.\")\n",
    "                return False\n",
    "            else:\n",
    "                # Deduct stock and update lists\n",
    "                row[2] -= requested_quantity\n",
    "                stationary_quantity.append(requested_quantity)\n",
    "                stationary_list.append(row[1] * requested_quantity)\n",
    "                print(f\"{requested_quantity} units of {product_name} deducted. Remaining stock: {row[2]}\")\n",
    "                return True\n",
    "    print(f\"Product {product_name} not found.\")\n",
    "    return False\n",
    "\n",
    "# Main shopping process\n",
    "while True:\n",
    "    print(\"\\nAvailable Products:\\n\", table1)\n",
    "    product_name = input(\"Enter the Product Name: \")\n",
    "    requested_quantity = int(input(f\"Enter Quantity Required for {product_name}: \"))\n",
    "\n",
    "    if not deduct_stock(product_name, requested_quantity):\n",
    "        continue\n",
    "\n",
    "    po = input(\"Do you want to add another item? (yes/no): \").lower()\n",
    "    if po != \"yes\":\n",
    "        break\n",
    "\n",
    "# Calculate discount for main store\n",
    "main_total_price = sum(main_store_list)\n",
    "main_total_quantity = sum(main_store_quantity)\n",
    "discount = 0\n",
    "\n",
    "if main_total_quantity >= 250:\n",
    "    discount = (main_total_price // 250) * 5\n",
    "    if discount > 25:\n",
    "        discount = 25\n",
    "\n",
    "main_price_after_discount = main_total_price * (1 - discount / 100)\n",
    "print(f\"The total price for the main store after {discount}% discount is: {main_price_after_discount}\")\n",
    "\n",
    "# Stationary shopping process\n",
    "stationary_bool = input(\"Do you want to visit our new stationary store? (yes/no): \").lower()\n",
    "if stationary_bool == \"yes\":\n",
    "    while True:\n",
    "        print(\"\\nAvailable Stationary Products:\\n\", table2)\n",
    "        stationary_product_name = input(\"Enter Stationary Product Name: \")\n",
    "        stationary_quantity_requested = int(input(f\"Enter Quantity Required for {stationary_product_name}: \"))\n",
    "\n",
    "        if not deduct_stationary_stock(stationary_product_name, stationary_quantity_requested):\n",
    "            continue\n",
    "\n",
    "        add_stationary = input(\"Do you want to add another stationary item? (yes/no): \").lower()\n",
    "        if add_stationary != \"yes\":\n",
    "            break\n",
    "\n",
    "# Calculate total for stationary store\n",
    "stationary_total_price = sum(stationary_list)\n",
    "stationary_total_quantity = sum(stationary_quantity)\n",
    "\n",
    "# Offer 2% loyalty discount if stationary quantity > 50\n",
    "stationary_discount = 0\n",
    "if stationary_total_quantity > 50:\n",
    "    stationary_discount = 2\n",
    "    stationary_total_price *= (1 - stationary_discount / 100)\n",
    "\n",
    "print(f\"The total price for the stationary store after {stationary_discount}% loyalty discount is: {stationary_total_price}\")\n",
    "\n",
    "# Add both totals\n",
    "grand_total_price = main_price_after_discount + stationary_total_price\n",
    "\n",
    "# Delivery or Pickup\n",
    "DP = input(\"Do you want delivery or pickup? (Enter 'delivery' or 'pick-up'): \").lower()\n",
    "if DP == \"delivery\":\n",
    "    grand_total_price += 200\n",
    "elif DP == \"pick-up\":\n",
    "    grand_total_price += 50\n",
    "\n",
    "# Payment process\n",
    "while True:\n",
    "    Currency = input(\"Choose a payment currency (USD, EUR, EGP): \").upper()\n",
    "    Outmoney = conversion(Currency, grand_total_price)\n",
    "    if Outmoney is not False:\n",
    "        break\n",
    "    print(\"Invalid currency. Please try again.\")\n",
    "\n",
    "print(f\"Total Discounted Price (including stationary store): {Currency} {Outmoney}\")\n",
    "print(\"Your order is on the way!\")\n"
   ]
  },
  {
   "cell_type": "code",
   "execution_count": null,
   "id": "21ff2442-9df8-4bc0-b4b3-3c34566eaaf3",
   "metadata": {},
   "outputs": [],
   "source": []
  }
 ],
 "metadata": {
  "kernelspec": {
   "display_name": "Python 3 (ipykernel)",
   "language": "python",
   "name": "python3"
  },
  "language_info": {
   "codemirror_mode": {
    "name": "ipython",
    "version": 3
   },
   "file_extension": ".py",
   "mimetype": "text/x-python",
   "name": "python",
   "nbconvert_exporter": "python",
   "pygments_lexer": "ipython3",
   "version": "3.12.7"
  }
 },
 "nbformat": 4,
 "nbformat_minor": 5
}
